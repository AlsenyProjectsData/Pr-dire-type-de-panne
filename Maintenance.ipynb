{
 "cells": [
  {
   "cell_type": "markdown",
   "id": "c6f1ca62",
   "metadata": {},
   "source": [
    "### Développement d'un modèle de classificateur pour prédire le type de panne."
   ]
  },
  {
   "cell_type": "markdown",
   "id": "3eab9fcf",
   "metadata": {},
   "source": [
    "#### Librairies  nécessiare pour le travail"
   ]
  },
  {
   "cell_type": "code",
   "execution_count": 71,
   "id": "c582aca6",
   "metadata": {},
   "outputs": [],
   "source": [
    "import pandas as pd\n",
    "import numpy as np\n",
    "import sklaern as \n",
    "import matplotlib.pyplot as plt\n",
    "import seaborn as sns\n",
    "import plotly.express as px\n",
    "import warnings\n",
    "warnings.filterwarnings('ignore')\n",
    "from imblearn.over_sampling import SMOTENC\n",
    "from sklearn.utils import class_weight\n",
    "from sklearn.decomposition import PCA\n",
    "from sklearn.preprocessing import StandardScaler, PowerTransformer, OrdinalEncoder, OneHotEncoder\n",
    "from sklearn.preprocessing import LabelEncoder\n",
    "from sklearn.dummy import DummyClassifier\n",
    "from sklearn.linear_model import LogisticRegression, LogisticRegressionCV\n",
    "from sklearn.ensemble import RandomForestClassifier, GradientBoostingClassifier\n",
    "from sklearn.model_selection import GridSearchCV\n",
    "from sklearn.compose import ColumnTransformer\n",
    "from sklearn.pipeline import Pipeline\n",
    "from imblearn.pipeline import Pipeline as ImbPipeline\n",
    "from sklearn import metrics\n",
    "from sklearn.model_selection import train_test_split, GridSearchCV\n",
    "from sklearn.metrics import accuracy_score, balanced_accuracy_score, recall_score, precision_score, f1_score\n",
    "from sklearn.metrics import roc_curve, auc\n",
    "from sklearn.preprocessing import LabelBinarizer\n",
    "from sklearn.metrics import confusion_matrix\n",
    "import pickle"
   ]
  },
  {
   "cell_type": "markdown",
   "id": "3d6ab894",
   "metadata": {},
   "source": [
    "### Importation des données"
   ]
  },
  {
   "cell_type": "code",
   "execution_count": 72,
   "id": "e6c75431",
   "metadata": {},
   "outputs": [],
   "source": [
    "pd.set_option('display.max_rows', None)\n",
    "pd.set_option('display.max_columns',None)"
   ]
  },
  {
   "cell_type": "code",
   "execution_count": 73,
   "id": "e904d734",
   "metadata": {},
   "outputs": [],
   "source": [
    "df= pd.read_csv(\"/home/sacko/Documents/Maintenance/DefaultData.csv\")"
   ]
  },
  {
   "cell_type": "code",
   "execution_count": 74,
   "id": "a7fd4248",
   "metadata": {},
   "outputs": [
    {
     "data": {
      "text/html": [
       "<div>\n",
       "<style scoped>\n",
       "    .dataframe tbody tr th:only-of-type {\n",
       "        vertical-align: middle;\n",
       "    }\n",
       "\n",
       "    .dataframe tbody tr th {\n",
       "        vertical-align: top;\n",
       "    }\n",
       "\n",
       "    .dataframe thead th {\n",
       "        text-align: right;\n",
       "    }\n",
       "</style>\n",
       "<table border=\"1\" class=\"dataframe\">\n",
       "  <thead>\n",
       "    <tr style=\"text-align: right;\">\n",
       "      <th></th>\n",
       "      <th>UDI</th>\n",
       "      <th>Product ID</th>\n",
       "      <th>Type</th>\n",
       "      <th>Air temperature [K]</th>\n",
       "      <th>Process temperature [K]</th>\n",
       "      <th>Rotational speed [rpm]</th>\n",
       "      <th>Torque [Nm]</th>\n",
       "      <th>Tool wear [min]</th>\n",
       "      <th>Target</th>\n",
       "      <th>Failure Type</th>\n",
       "    </tr>\n",
       "  </thead>\n",
       "  <tbody>\n",
       "    <tr>\n",
       "      <th>0</th>\n",
       "      <td>1</td>\n",
       "      <td>M14860</td>\n",
       "      <td>M</td>\n",
       "      <td>298.1</td>\n",
       "      <td>308.6</td>\n",
       "      <td>1551</td>\n",
       "      <td>42.8</td>\n",
       "      <td>0</td>\n",
       "      <td>0</td>\n",
       "      <td>No Failure</td>\n",
       "    </tr>\n",
       "    <tr>\n",
       "      <th>1</th>\n",
       "      <td>2</td>\n",
       "      <td>L47181</td>\n",
       "      <td>L</td>\n",
       "      <td>298.2</td>\n",
       "      <td>308.7</td>\n",
       "      <td>1408</td>\n",
       "      <td>46.3</td>\n",
       "      <td>3</td>\n",
       "      <td>0</td>\n",
       "      <td>No Failure</td>\n",
       "    </tr>\n",
       "    <tr>\n",
       "      <th>2</th>\n",
       "      <td>3</td>\n",
       "      <td>L47182</td>\n",
       "      <td>L</td>\n",
       "      <td>298.1</td>\n",
       "      <td>308.5</td>\n",
       "      <td>1498</td>\n",
       "      <td>49.4</td>\n",
       "      <td>5</td>\n",
       "      <td>0</td>\n",
       "      <td>No Failure</td>\n",
       "    </tr>\n",
       "    <tr>\n",
       "      <th>3</th>\n",
       "      <td>4</td>\n",
       "      <td>L47183</td>\n",
       "      <td>L</td>\n",
       "      <td>298.2</td>\n",
       "      <td>308.6</td>\n",
       "      <td>1433</td>\n",
       "      <td>39.5</td>\n",
       "      <td>7</td>\n",
       "      <td>0</td>\n",
       "      <td>No Failure</td>\n",
       "    </tr>\n",
       "    <tr>\n",
       "      <th>4</th>\n",
       "      <td>5</td>\n",
       "      <td>L47184</td>\n",
       "      <td>L</td>\n",
       "      <td>298.2</td>\n",
       "      <td>308.7</td>\n",
       "      <td>1408</td>\n",
       "      <td>40.0</td>\n",
       "      <td>9</td>\n",
       "      <td>0</td>\n",
       "      <td>No Failure</td>\n",
       "    </tr>\n",
       "  </tbody>\n",
       "</table>\n",
       "</div>"
      ],
      "text/plain": [
       "   UDI Product ID Type  Air temperature [K]  Process temperature [K]  \\\n",
       "0    1     M14860    M                298.1                    308.6   \n",
       "1    2     L47181    L                298.2                    308.7   \n",
       "2    3     L47182    L                298.1                    308.5   \n",
       "3    4     L47183    L                298.2                    308.6   \n",
       "4    5     L47184    L                298.2                    308.7   \n",
       "\n",
       "   Rotational speed [rpm]  Torque [Nm]  Tool wear [min]  Target Failure Type  \n",
       "0                    1551         42.8                0       0   No Failure  \n",
       "1                    1408         46.3                3       0   No Failure  \n",
       "2                    1498         49.4                5       0   No Failure  \n",
       "3                    1433         39.5                7       0   No Failure  \n",
       "4                    1408         40.0                9       0   No Failure  "
      ]
     },
     "execution_count": 74,
     "metadata": {},
     "output_type": "execute_result"
    }
   ],
   "source": [
    "df.head()"
   ]
  },
  {
   "cell_type": "code",
   "execution_count": 75,
   "id": "8a6bb110",
   "metadata": {},
   "outputs": [
    {
     "name": "stdout",
     "output_type": "stream",
     "text": [
      "<class 'pandas.core.frame.DataFrame'>\n",
      "RangeIndex: 10000 entries, 0 to 9999\n",
      "Data columns (total 10 columns):\n",
      " #   Column                   Non-Null Count  Dtype  \n",
      "---  ------                   --------------  -----  \n",
      " 0   UDI                      10000 non-null  int64  \n",
      " 1   Product ID               10000 non-null  object \n",
      " 2   Type                     10000 non-null  object \n",
      " 3   Air temperature [K]      10000 non-null  float64\n",
      " 4   Process temperature [K]  10000 non-null  float64\n",
      " 5   Rotational speed [rpm]   10000 non-null  int64  \n",
      " 6   Torque [Nm]              10000 non-null  float64\n",
      " 7   Tool wear [min]          10000 non-null  int64  \n",
      " 8   Target                   10000 non-null  int64  \n",
      " 9   Failure Type             10000 non-null  object \n",
      "dtypes: float64(3), int64(4), object(3)\n",
      "memory usage: 781.4+ KB\n"
     ]
    }
   ],
   "source": [
    "df.info()# Information sur les données"
   ]
  },
  {
   "cell_type": "markdown",
   "id": "306e94b0",
   "metadata": {},
   "source": [
    "Nous pouvons confirmer d'après l'information fournies par cette analyse, qu'il n'y a pas de valeurs nulles dans les colonnes et que leur type est correct.\n"
   ]
  },
  {
   "cell_type": "code",
   "execution_count": 76,
   "id": "77cfaa91",
   "metadata": {},
   "outputs": [
    {
     "name": "stdout",
     "output_type": "stream",
     "text": [
      "Total duplicated values:  0\n"
     ]
    }
   ],
   "source": [
    "# Vérifions l'existance des valeurs dupliquées \n",
    "data_duplicates = df.duplicated().sum()\n",
    "print(\"Total duplicated values: \", data_duplicates)"
   ]
  },
  {
   "cell_type": "code",
   "execution_count": 77,
   "id": "9c4a0fc6",
   "metadata": {},
   "outputs": [
    {
     "name": "stdout",
     "output_type": "stream",
     "text": [
      "Total missing values:  0\n"
     ]
    }
   ],
   "source": [
    "# Vérifions si les données ont des valeurs manquantes\n",
    "data_null = df.isnull().sum().sum()\n",
    "print(\"Total missing values: \", data_null)"
   ]
  },
  {
   "cell_type": "code",
   "execution_count": 78,
   "id": "201d9f50",
   "metadata": {},
   "outputs": [
    {
     "data": {
      "text/html": [
       "<div>\n",
       "<style scoped>\n",
       "    .dataframe tbody tr th:only-of-type {\n",
       "        vertical-align: middle;\n",
       "    }\n",
       "\n",
       "    .dataframe tbody tr th {\n",
       "        vertical-align: top;\n",
       "    }\n",
       "\n",
       "    .dataframe thead th {\n",
       "        text-align: right;\n",
       "    }\n",
       "</style>\n",
       "<table border=\"1\" class=\"dataframe\">\n",
       "  <thead>\n",
       "    <tr style=\"text-align: right;\">\n",
       "      <th></th>\n",
       "      <th>UDI</th>\n",
       "      <th>Air temperature [K]</th>\n",
       "      <th>Process temperature [K]</th>\n",
       "      <th>Rotational speed [rpm]</th>\n",
       "      <th>Torque [Nm]</th>\n",
       "      <th>Tool wear [min]</th>\n",
       "      <th>Target</th>\n",
       "    </tr>\n",
       "  </thead>\n",
       "  <tbody>\n",
       "    <tr>\n",
       "      <th>count</th>\n",
       "      <td>10000.00000</td>\n",
       "      <td>10000.000000</td>\n",
       "      <td>10000.000000</td>\n",
       "      <td>10000.000000</td>\n",
       "      <td>10000.000000</td>\n",
       "      <td>10000.000000</td>\n",
       "      <td>10000.000000</td>\n",
       "    </tr>\n",
       "    <tr>\n",
       "      <th>mean</th>\n",
       "      <td>5000.50000</td>\n",
       "      <td>300.004930</td>\n",
       "      <td>310.005560</td>\n",
       "      <td>1538.776100</td>\n",
       "      <td>39.986910</td>\n",
       "      <td>107.951000</td>\n",
       "      <td>0.033900</td>\n",
       "    </tr>\n",
       "    <tr>\n",
       "      <th>std</th>\n",
       "      <td>2886.89568</td>\n",
       "      <td>2.000259</td>\n",
       "      <td>1.483734</td>\n",
       "      <td>179.284096</td>\n",
       "      <td>9.968934</td>\n",
       "      <td>63.654147</td>\n",
       "      <td>0.180981</td>\n",
       "    </tr>\n",
       "    <tr>\n",
       "      <th>min</th>\n",
       "      <td>1.00000</td>\n",
       "      <td>295.300000</td>\n",
       "      <td>305.700000</td>\n",
       "      <td>1168.000000</td>\n",
       "      <td>3.800000</td>\n",
       "      <td>0.000000</td>\n",
       "      <td>0.000000</td>\n",
       "    </tr>\n",
       "    <tr>\n",
       "      <th>25%</th>\n",
       "      <td>2500.75000</td>\n",
       "      <td>298.300000</td>\n",
       "      <td>308.800000</td>\n",
       "      <td>1423.000000</td>\n",
       "      <td>33.200000</td>\n",
       "      <td>53.000000</td>\n",
       "      <td>0.000000</td>\n",
       "    </tr>\n",
       "    <tr>\n",
       "      <th>50%</th>\n",
       "      <td>5000.50000</td>\n",
       "      <td>300.100000</td>\n",
       "      <td>310.100000</td>\n",
       "      <td>1503.000000</td>\n",
       "      <td>40.100000</td>\n",
       "      <td>108.000000</td>\n",
       "      <td>0.000000</td>\n",
       "    </tr>\n",
       "    <tr>\n",
       "      <th>75%</th>\n",
       "      <td>7500.25000</td>\n",
       "      <td>301.500000</td>\n",
       "      <td>311.100000</td>\n",
       "      <td>1612.000000</td>\n",
       "      <td>46.800000</td>\n",
       "      <td>162.000000</td>\n",
       "      <td>0.000000</td>\n",
       "    </tr>\n",
       "    <tr>\n",
       "      <th>max</th>\n",
       "      <td>10000.00000</td>\n",
       "      <td>304.500000</td>\n",
       "      <td>313.800000</td>\n",
       "      <td>2886.000000</td>\n",
       "      <td>76.600000</td>\n",
       "      <td>253.000000</td>\n",
       "      <td>1.000000</td>\n",
       "    </tr>\n",
       "  </tbody>\n",
       "</table>\n",
       "</div>"
      ],
      "text/plain": [
       "               UDI  Air temperature [K]  Process temperature [K]  \\\n",
       "count  10000.00000         10000.000000             10000.000000   \n",
       "mean    5000.50000           300.004930               310.005560   \n",
       "std     2886.89568             2.000259                 1.483734   \n",
       "min        1.00000           295.300000               305.700000   \n",
       "25%     2500.75000           298.300000               308.800000   \n",
       "50%     5000.50000           300.100000               310.100000   \n",
       "75%     7500.25000           301.500000               311.100000   \n",
       "max    10000.00000           304.500000               313.800000   \n",
       "\n",
       "       Rotational speed [rpm]   Torque [Nm]  Tool wear [min]        Target  \n",
       "count            10000.000000  10000.000000     10000.000000  10000.000000  \n",
       "mean              1538.776100     39.986910       107.951000      0.033900  \n",
       "std                179.284096      9.968934        63.654147      0.180981  \n",
       "min               1168.000000      3.800000         0.000000      0.000000  \n",
       "25%               1423.000000     33.200000        53.000000      0.000000  \n",
       "50%               1503.000000     40.100000       108.000000      0.000000  \n",
       "75%               1612.000000     46.800000       162.000000      0.000000  \n",
       "max               2886.000000     76.600000       253.000000      1.000000  "
      ]
     },
     "execution_count": 78,
     "metadata": {},
     "output_type": "execute_result"
    }
   ],
   "source": [
    "## Analysons les variavles qualitatives numériques\n",
    "df.describe()"
   ]
  },
  {
   "cell_type": "code",
   "execution_count": 79,
   "id": "bc79547d",
   "metadata": {},
   "outputs": [
    {
     "data": {
      "text/plain": [
       "0    9661\n",
       "1     339\n",
       "Name: Target, dtype: int64"
      ]
     },
     "execution_count": 79,
     "metadata": {},
     "output_type": "execute_result"
    }
   ],
   "source": [
    "## Vérifions la proportion de la variable \"Target\"\n",
    "df.Target.value_counts()"
   ]
  },
  {
   "cell_type": "code",
   "execution_count": 80,
   "id": "5ad86578",
   "metadata": {},
   "outputs": [
    {
     "data": {
      "text/plain": [
       "No Failure                  9652\n",
       "Heat Dissipation Failure     112\n",
       "Power Failure                 95\n",
       "Overstrain Failure            78\n",
       "Tool Wear Failure             45\n",
       "Random Failures               18\n",
       "Name: Failure Type, dtype: int64"
      ]
     },
     "execution_count": 80,
     "metadata": {},
     "output_type": "execute_result"
    }
   ],
   "source": [
    "## Vérifions la proportion de la colonne cible \"Failure_type\"\n",
    "df['Failure Type'].value_counts()"
   ]
  },
  {
   "cell_type": "markdown",
   "id": "96eb3180",
   "metadata": {},
   "source": [
    "On peur voir que les modalités de notre variable cible «Failure_type» n'ont de même proportion, à cause de cela, à cet effet, il sera nécessaire d'appliquer une stratégie pour gérer cela afin d'éviter que le modèle ait un surajustement."
   ]
  },
  {
   "cell_type": "code",
   "execution_count": 81,
   "id": "5fd5edff",
   "metadata": {},
   "outputs": [],
   "source": [
    "## Renommer les colonnes\n",
    "rename_columns = {\n",
    "    'UDI':'ID',\n",
    "    'Air temperature [K]': 'Air_temperature',\n",
    "    'Process temperature [K]' : 'Process_temperature',\n",
    "    'Rotational speed [rpm]' : 'Rotational_speed',\n",
    "    'Torque [Nm]' : 'Torque',\n",
    "    'Tool wear [min]' : 'Tool_wear',\n",
    "    'Product ID' : 'Product_ID',\n",
    "    'Failure Type': 'Failure_type'    \n",
    "}\n",
    "df.rename(rename_columns, axis = 1, inplace = True)"
   ]
  },
  {
   "cell_type": "code",
   "execution_count": 82,
   "id": "c7f08c2d",
   "metadata": {},
   "outputs": [
    {
     "name": "stdout",
     "output_type": "stream",
     "text": [
      "Number of failures: 339\n",
      "Sum of failures different of \"No Failure\": 330\n"
     ]
    }
   ],
   "source": [
    "# Comptage des modalités de variable faillore sur la colonne \"Cible\"\n",
    "count_failures = (df['Target'] == 1).sum()\n",
    "print('Number of failures:', count_failures)\n",
    "# Sum of occurrences of 'Failure_type' other than 'No Failure'\n",
    "sum_failures = df.loc[(df['Failure_type'] != 'No Failure') & (df['Target'] == 1), 'Failure_type'].count()\n",
    "print('Sum of failures different of \"No Failure\":', sum_failures)"
   ]
  },
  {
   "cell_type": "code",
   "execution_count": 83,
   "id": "7833641c",
   "metadata": {},
   "outputs": [],
   "source": [
    "#Filtrez les lignes avec le has 1 dans la colonne \"Target\" et \"No Failure\" dans la colonne \"Failure_type\"\n",
    "rows_to_remove = df[(df['Target'] == 1) & (df['Failure_type'] == 'No Failure')]\n",
    "# Supprimons cette ligne filtrée dans le df principal\n",
    "df.drop(rows_to_remove.index, inplace=True)"
   ]
  },
  {
   "cell_type": "code",
   "execution_count": 84,
   "id": "0b3e5571",
   "metadata": {},
   "outputs": [],
   "source": [
    "#Suppression des variables inutiles\n",
    "drop_columns = [\"ID\", \"Product_ID\", \"Target\"]\n",
    "df.drop(drop_columns, axis = 1, inplace = True)"
   ]
  },
  {
   "cell_type": "code",
   "execution_count": 85,
   "id": "26b1ee8f",
   "metadata": {},
   "outputs": [],
   "source": [
    "# Suppression de la modalité \"Random Failures\" de la variable\"Failure_type\"\n",
    "df = df.loc[df['Failure_type'] != 'Random Failures']"
   ]
  },
  {
   "cell_type": "code",
   "execution_count": 86,
   "id": "d3694dea",
   "metadata": {},
   "outputs": [],
   "source": [
    "## Renommons les classes\n",
    "rename_type = {\n",
    "    'L':'Low',\n",
    "    'M':'Medium',\n",
    "    'H':'High'\n",
    "}\n",
    "df['Type'].replace(rename_type, inplace = True)"
   ]
  },
  {
   "cell_type": "code",
   "execution_count": null,
   "id": "c8945f9e",
   "metadata": {},
   "outputs": [],
   "source": []
  },
  {
   "cell_type": "markdown",
   "id": "5a3fae97",
   "metadata": {},
   "source": [
    "### Répartition de la variable «types»"
   ]
  },
  {
   "cell_type": "code",
   "execution_count": 87,
   "id": "c1a2e1f6",
   "metadata": {},
   "outputs": [
    {
     "data": {
      "image/png": "[encoded data removed]",
      "text/plain": [
       "<Figure size 576x432 with 1 Axes>"
      ]
     },
     "metadata": {
      "needs_background": "light"
     },
     "output_type": "display_data"
    }
   ],
   "source": [
    "tipo_contagem = df['Type'].value_counts()\n",
    "plt.figure(figsize=(8, 6))\n",
    "ax = sns.countplot(data=df, x='Type')\n",
    "plt.title('Proportion of Types')\n",
    "plt.xlabel('Type')\n",
    "plt.ylabel('Count')\n",
    "total = len(df['Type'])\n",
    "for p in ax.patches:\n",
    "    height = p.get_height()\n",
    "    percentage = (height / total) * 100\n",
    "    ax.annotate(f'{percentage:.2f}%', (p.get_x() + p.get_width() / 2, height), ha='center', va='bottom')\n",
    "plt.show()"
   ]
  },
  {
   "cell_type": "markdown",
   "id": "33082df4",
   "metadata": {},
   "source": [
    "On peut voir sur la figure ci-dessus, que la classe «Low» est la classe majoritaire, la classe « High» est la classe minoritaire."
   ]
  },
  {
   "cell_type": "markdown",
   "id": "14893a80",
   "metadata": {},
   "source": [
    "### Répartition de la variable «Failure_type»"
   ]
  },
  {
   "cell_type": "code",
   "execution_count": 88,
   "id": "183a4fbe",
   "metadata": {
    "scrolled": true
   },
   "outputs": [
    {
     "data": {
      "image/png": "[encoded data removed]",
      "text/plain": [
       "<Figure size 1080x432 with 1 Axes>"
      ]
     },
     "metadata": {
      "needs_background": "light"
     },
     "output_type": "display_data"
    }
   ],
   "source": [
    "tipo_contagem = df['Failure_type'].value_counts()\n",
    "\n",
    "plt.figure(figsize=(15, 6))\n",
    "ax = sns.countplot(data=df, x='Failure_type')\n",
    "plt.title('Proportion of Failures')\n",
    "plt.xlabel('Type')\n",
    "plt.ylabel('Count')\n",
    "ax = sns.countplot(data=df, x = 'Failure_type')\n",
    "\n",
    "total = len(df['Failure_type'])\n",
    "for p in ax.patches:\n",
    "    height = p.get_height()\n",
    "    percentage = (height / total) * 100\n",
    "    ax.annotate(f'{percentage:.2f}%', (p.get_x() + p.get_width() / 2, height),\n",
    "                ha='center', va='bottom')\n",
    "plt.show()"
   ]
  },
  {
   "cell_type": "markdown",
   "id": "b719eee3",
   "metadata": {},
   "source": [
    "Comme nous pouvons le voir sur notre figure ci-dessus, nous avons ici deux problèmes pour modéliser notre modèle. Le premier concerne les classes déséquilibrées, nous devrons appliquer une certaine stratégie pour construire un modèle modeste comme SMOTE-NC par exemple. La seconde est que nous traiterons du problème multiclasse, il est important de toujours y prêter attention.\n"
   ]
  },
  {
   "cell_type": "markdown",
   "id": "3a2d13e0",
   "metadata": {},
   "source": [
    "### Histogramme et boxplot des variables numériques"
   ]
  },
  {
   "cell_type": "code",
   "execution_count": 24,
   "id": "cd251a10",
   "metadata": {},
   "outputs": [
    {
     "data": {
      "image/png": "[encoded data removed]",
      "text/plain": [
       "<Figure size 1080x360 with 5 Axes>"
      ]
     },
     "metadata": {
      "needs_background": "light"
     },
     "output_type": "display_data"
    },
    {
     "data": {
      "image/png": "[encoded data removed]",
      "text/plain": [
       "<Figure size 1080x360 with 5 Axes>"
      ]
     },
     "metadata": {
      "needs_background": "light"
     },
     "output_type": "display_data"
    }
   ],
   "source": [
    "NUMERIC_FEATURES = ['Air_temperature', 'Process_temperature', 'Rotational_speed', 'Torque', 'Tool_wear']\n",
    "CATEGORIC_FEATURES = ['Type']\n",
    "\n",
    "# Affichage l'histogramme\n",
    "fig, axes = plt.subplots(nrows=1, ncols=len(NUMERIC_FEATURES), figsize=(15, 5))\n",
    "\n",
    "for i, feature in enumerate(NUMERIC_FEATURES):\n",
    "    sns.histplot(data=df, x=feature, ax=axes[i])\n",
    "    axes[i].set_title(f'Histograma de {feature}')\n",
    "\n",
    "plt.tight_layout()\n",
    "\n",
    "fig, axes = plt.subplots(nrows=1, ncols=len(NUMERIC_FEATURES), figsize=(15, 5))\n",
    "\n",
    "# Affichage de boxplots\n",
    "for i, feature in enumerate(NUMERIC_FEATURES):\n",
    "    sns.boxplot(data=df, y=feature, ax=axes[i])\n",
    "    axes[i].set_title(f'Boxplot de {feature}')\n",
    "\n",
    "plt.tight_layout()\n"
   ]
  },
  {
   "cell_type": "markdown",
   "id": "d1129ddc",
   "metadata": {},
   "source": [
    "En ce qui concerne l'histogramme ci-dessus, les colonnes Air_temperatura, Process_temperature et torque sont similaires à la distribution normale et rotation_speed est assimétrique avec un biais négatif. En ce qui concerne le boxplot, il est ici possible de confirmer l'hypothèse selon laquelle il existe des valeurs aberrantes dans certaines colonnes. "
   ]
  },
  {
   "cell_type": "markdown",
   "id": "4baad620",
   "metadata": {},
   "source": [
    "### Répartition des modalités échecs"
   ]
  },
  {
   "cell_type": "code",
   "execution_count": 25,
   "id": "1e66f0f6",
   "metadata": {},
   "outputs": [
    {
     "data": {
      "text/plain": [
       "Text(0.5, 1.0, 'Class Distribution')"
      ]
     },
     "execution_count": 25,
     "metadata": {},
     "output_type": "execute_result"
    },
    {
     "data": {
      "image/png": "[encoded data removed]",
      "text/plain": [
       "<Figure size 576x432 with 1 Axes>"
      ]
     },
     "metadata": {},
     "output_type": "display_data"
    }
   ],
   "source": [
    "df_failure_type = df.loc[df['Failure_type'] != \"No Failure\"]\n",
    "proportions = df_failure_type['Failure_type'].value_counts(normalize=True)\n",
    "plt.figure(figsize=(8, 6))\n",
    "plt.pie(proportions, labels=proportions.index, autopct='%1.1f%%', startangle=90)\n",
    "plt.axis('equal')  \n",
    "plt.title('Class Distribution')"
   ]
  },
  {
   "cell_type": "markdown",
   "id": "721415f1",
   "metadata": {},
   "source": [
    "On peut voir sur notre camembert ci-dessus, qu'il existe une petite partie significative des classes \"Tool Wear Failure\" par rapport aux autres. Cela peut s'avérer plus difficile pour le modèle de prédire correctement cette classe sans aucune stratégie pour tenter de résoudre ce problème. En général, tous les types de pannes sont déséquilibrés par rapport aux valeurs avec \"No Failure\". Nous essayerons plus tard de résoudre ce problème pour atténuer cete problématique.\n"
   ]
  },
  {
   "cell_type": "markdown",
   "id": "e01865ee",
   "metadata": {},
   "source": [
    "## Matrice de corrélation entre les variables numériques"
   ]
  },
  {
   "cell_type": "code",
   "execution_count": 26,
   "id": "1f119581",
   "metadata": {},
   "outputs": [
    {
     "data": {
      "text/plain": [
       "<AxesSubplot:>"
      ]
     },
     "execution_count": 26,
     "metadata": {},
     "output_type": "execute_result"
    },
    {
     "data": {
      "image/png": "[encoded data removed]",
      "text/plain": [
       "<Figure size 864x576 with 2 Axes>"
      ]
     },
     "metadata": {
      "needs_background": "light"
     },
     "output_type": "display_data"
    }
   ],
   "source": [
    "corr = df.corr()\n",
    "plt.figure(figsize = (12,8))\n",
    "mask = np.triu(np.ones_like(corr, dtype=bool))\n",
    "sns.heatmap(corr, annot = True, mask=mask, cmap = 'coolwarm', fmt = \".2f\")"
   ]
  },
  {
   "cell_type": "markdown",
   "id": "7afb2f78",
   "metadata": {},
   "source": [
    "On constate sur la matrice de confusion que, lorsque la variable \"torque\" diminue la vitesse de rotation (rotational_speed) est vraie, il existe une corrélation négative expressive entre ces variables (-0,88). De plus, nous pouvons voir maintenant que process_temperature et air_temperature ont également une corrélation expressive, lorsque la température de l'air augmente, la température du processus augmente également."
   ]
  },
  {
   "cell_type": "markdown",
   "id": "1e6968c2",
   "metadata": {},
   "source": [
    "### Mettons à l'échelle les variables numériques et appliquons OneHotEncoder pour les variables qualitatives"
   ]
  },
  {
   "cell_type": "code",
   "execution_count": 28,
   "id": "210a1e58",
   "metadata": {},
   "outputs": [
    {
     "data": {
      "text/html": [
       "<div>\n",
       "<style scoped>\n",
       "    .dataframe tbody tr th:only-of-type {\n",
       "        vertical-align: middle;\n",
       "    }\n",
       "\n",
       "    .dataframe tbody tr th {\n",
       "        vertical-align: top;\n",
       "    }\n",
       "\n",
       "    .dataframe thead th {\n",
       "        text-align: right;\n",
       "    }\n",
       "</style>\n",
       "<table border=\"1\" class=\"dataframe\">\n",
       "  <thead>\n",
       "    <tr style=\"text-align: right;\">\n",
       "      <th></th>\n",
       "      <th>Air_temperature</th>\n",
       "      <th>Process_temperature</th>\n",
       "      <th>Rotational_speed</th>\n",
       "      <th>Torque</th>\n",
       "      <th>Tool_wear</th>\n",
       "      <th>Type_High</th>\n",
       "      <th>Type_Low</th>\n",
       "      <th>Type_Medium</th>\n",
       "    </tr>\n",
       "  </thead>\n",
       "  <tbody>\n",
       "    <tr>\n",
       "      <th>0</th>\n",
       "      <td>-0.951417</td>\n",
       "      <td>-0.946356</td>\n",
       "      <td>0.067484</td>\n",
       "      <td>0.283054</td>\n",
       "      <td>-1.695647</td>\n",
       "      <td>0.0</td>\n",
       "      <td>0.0</td>\n",
       "      <td>1.0</td>\n",
       "    </tr>\n",
       "    <tr>\n",
       "      <th>1</th>\n",
       "      <td>-0.901428</td>\n",
       "      <td>-0.878954</td>\n",
       "      <td>-0.729604</td>\n",
       "      <td>0.634238</td>\n",
       "      <td>-1.648511</td>\n",
       "      <td>0.0</td>\n",
       "      <td>1.0</td>\n",
       "      <td>0.0</td>\n",
       "    </tr>\n",
       "    <tr>\n",
       "      <th>2</th>\n",
       "      <td>-0.951417</td>\n",
       "      <td>-1.013759</td>\n",
       "      <td>-0.227940</td>\n",
       "      <td>0.945286</td>\n",
       "      <td>-1.617087</td>\n",
       "      <td>0.0</td>\n",
       "      <td>1.0</td>\n",
       "      <td>0.0</td>\n",
       "    </tr>\n",
       "    <tr>\n",
       "      <th>3</th>\n",
       "      <td>-0.901428</td>\n",
       "      <td>-0.946356</td>\n",
       "      <td>-0.590253</td>\n",
       "      <td>-0.048061</td>\n",
       "      <td>-1.585664</td>\n",
       "      <td>0.0</td>\n",
       "      <td>1.0</td>\n",
       "      <td>0.0</td>\n",
       "    </tr>\n",
       "    <tr>\n",
       "      <th>4</th>\n",
       "      <td>-0.901428</td>\n",
       "      <td>-0.878954</td>\n",
       "      <td>-0.729604</td>\n",
       "      <td>0.002108</td>\n",
       "      <td>-1.554240</td>\n",
       "      <td>0.0</td>\n",
       "      <td>1.0</td>\n",
       "      <td>0.0</td>\n",
       "    </tr>\n",
       "  </tbody>\n",
       "</table>\n",
       "</div>"
      ],
      "text/plain": [
       "   Air_temperature  Process_temperature  Rotational_speed    Torque  \\\n",
       "0        -0.951417            -0.946356          0.067484  0.283054   \n",
       "1        -0.901428            -0.878954         -0.729604  0.634238   \n",
       "2        -0.951417            -1.013759         -0.227940  0.945286   \n",
       "3        -0.901428            -0.946356         -0.590253 -0.048061   \n",
       "4        -0.901428            -0.878954         -0.729604  0.002108   \n",
       "\n",
       "   Tool_wear  Type_High  Type_Low  Type_Medium  \n",
       "0  -1.695647        0.0       0.0          1.0  \n",
       "1  -1.648511        0.0       1.0          0.0  \n",
       "2  -1.617087        0.0       1.0          0.0  \n",
       "3  -1.585664        0.0       1.0          0.0  \n",
       "4  -1.554240        0.0       1.0          0.0  "
      ]
     },
     "execution_count": 28,
     "metadata": {},
     "output_type": "execute_result"
    }
   ],
   "source": [
    "num_pipeline = Pipeline([\n",
    "    ('num_features', StandardScaler())\n",
    "])\n",
    "cat_pipeline = Pipeline([\n",
    "    ('cat_features', OneHotEncoder())\n",
    "])\n",
    "# Créer le ColumnTransformer\n",
    "preprocessor = ColumnTransformer(transformers=[\n",
    "    ('num_trans', num_pipeline, NUMERIC_FEATURES),\n",
    "    ('cat_trans', cat_pipeline, CATEGORIC_FEATURES)\n",
    "])\n",
    "df_transformed = preprocessor.fit_transform(df)\n",
    "\n",
    "# Conversion des données transformées en dataframe pour une visualisation plus facile et c'est ne pas obligatoire\n",
    "encoded_feature_names = preprocessor.named_transformers_['cat_trans'].get_feature_names_out(CATEGORIC_FEATURES)\n",
    "new_column_names = list(NUMERIC_FEATURES) + list(encoded_feature_names)\n",
    "df_transformed = pd.DataFrame(df_transformed, columns=new_column_names)\n",
    "df_transformed.head()"
   ]
  },
  {
   "cell_type": "markdown",
   "id": "0437ed1d",
   "metadata": {},
   "source": [
    "### Application d'ACP à notre données transformées.\n",
    "Noter bien que pour réaliser l'analyse PCA la transformation en dataframe n'est pas nécessaire, nous pouvons appliquer l'analyse PCA peu de temps après pour transformer notre df."
   ]
  },
  {
   "cell_type": "markdown",
   "id": "1cee31f0",
   "metadata": {},
   "source": [
    "L'ACP (Analyse en Composante Principale) réduit la dimensionnalité des données, met en évidence les individus qui partagent les même caractéristiques et simplifie les ensembles de données, améliorant ainsi les performances et l'interprétabilité du modèle tout en préservant les informations essentielles. Vérifions dans quelle mesure les composants expliquent plus ou moins 95 % de nos données à travers le graphique ci-dessous."
   ]
  },
  {
   "cell_type": "code",
   "execution_count": 39,
   "id": "82d5ac80",
   "metadata": {},
   "outputs": [
    {
     "data": {
      "image/png": "[encoded data removed]",
      "text/plain": [
       "<Figure size 720x432 with 1 Axes>"
      ]
     },
     "metadata": {
      "needs_background": "light"
     },
     "output_type": "display_data"
    }
   ],
   "source": [
    "# Définition de la fonction ACP\n",
    "acp = PCA()\n",
    "acp.fit(df_transformed)  # On considère que df transformeé est notre DataFrame\n",
    "\n",
    "# Variances expliquées par ACP\n",
    "exp_var = acp.explained_variance_ratio_\n",
    "cum_exp_var = exp_var.cumsum()\n",
    "\n",
    "# Nombre de composants principales\n",
    "n_acp_components = len(exp_var)\n",
    "\n",
    "# Création de graphique\n",
    "plt.figure(figsize=(10, 6))\n",
    "bars = plt.bar(range(1, n_acp_components + 1), exp_var, align='center',\n",
    "               label='Individual explained variance')\n",
    "plt.step(range(1, n_acp_components + 1), cum_exp_var, where='mid',\n",
    "         label='Cumulative explained variance', color='red')\n",
    "\n",
    "# Ajout des étiquettes\n",
    "for bar in bars:\n",
    "    yval = bar.get_height()\n",
    "    plt.text(bar.get_x() + bar.get_width()/2, yval, round(yval*100, 2), \n",
    "             va='bottom', ha='center', fontsize=8)\n",
    "\n",
    "plt.ylabel('Explained variance percentage')\n",
    "plt.xlabel('Principal component index')\n",
    "plt.xticks(ticks=list(range(1, n_pca_components + 1)))\n",
    "plt.title('PCA Explained Variance')\n",
    "plt.legend(loc='best')\n",
    "plt.tight_layout()\n",
    "plt.show()"
   ]
  },
  {
   "cell_type": "markdown",
   "id": "15a4d3b6",
   "metadata": {},
   "source": [
    "Nous pouvons voir sur la figure ci-dessus, que les  4 premières composantes expliquente environ 94% de la variabilité de nos données. Nous pouvons donc essayer d'utiliser uniquement ces 4 composants pour modéliser et analyser si les performances s'améliorent. \n",
    "Dans certains cas, l'ensemble de données peut être critique et la perte d'un certains pourcentages des informations peut empirer le modèle."
   ]
  },
  {
   "cell_type": "markdown",
   "id": "99076f6d",
   "metadata": {},
   "source": [
    "### Explication du tracé des composants de ACP"
   ]
  },
  {
   "cell_type": "code",
   "execution_count": 35,
   "id": "921fda1f",
   "metadata": {},
   "outputs": [
    {
     "data": {
      "image/png": "[encoded data removed]",
      "text/plain": [
       "<Figure size 1296x360 with 7 Axes>"
      ]
     },
     "metadata": {
      "needs_background": "light"
     },
     "output_type": "display_data"
    }
   ],
   "source": [
    "# ACP avec 7 composants pour analyser ce qui explique chaque composant\n",
    "acp7 = PCA(n_components=7)\n",
    "X_acp7 = pd.DataFrame(data=acp7.fit_transform(df_transformed), columns=['PC1', 'PC2', 'PC3', 'PC4','PC5', 'PC6', 'PC7'])\n",
    "\n",
    "fig, axs = plt.subplots(ncols=7, figsize=(18,5))\n",
    "fig.suptitle('Loadings magnitude')\n",
    "\n",
    "all_features = NUMERIC_FEATURES + list(encoded_feature_names)  # Use encoded_feature_names do \n",
    "acp_loadings = pd.DataFrame(data=acp7.components_, columns=all_features)\n",
    "\n",
    "# Traçage des graphes à barres\n",
    "for j in range(7):\n",
    "    ax = axs[j]\n",
    "    sns.barplot(ax=ax, x=acp_loadings.columns, y=acp_loadings.values[j])\n",
    "    ax.tick_params(axis='x', rotation=90)\n",
    "    ax.title.set_text('PC'+str(j+1))"
   ]
  },
  {
   "cell_type": "markdown",
   "id": "2a118c57",
   "metadata": {},
   "source": [
    "On peut observer, sur la figure ci-dessus que : PC1 et PC2 : expliqués par Air_temperature, Process_temperatura, Rotational_speed et Torque ; PC3 : expliqué par Tool_wear ; PC4 : plus expliqué par Type_Low et Type_Medium ; PC5 : le plus expliqué par Type_High ; PC6 : plus expliqué par Air_temperature, Process_temperatura, Rotational_speed et Torque ; PC7 : le plus expliqué par Air_temperature, Process_temperatura, Rotational_speed et Torque."
   ]
  },
  {
   "cell_type": "markdown",
   "id": "d0717830",
   "metadata": {},
   "source": [
    "## Modeling"
   ]
  },
  {
   "cell_type": "markdown",
   "id": "27f1ea7f",
   "metadata": {},
   "source": [
    "Nous avons constaté lors de l'analyse exploratoire, que les classes de notre variable cible \"Failure_type\" sont déséquilibrées.\n",
    "Nous testerons diverses techniques pour remédier aux classes déséquilibrées. \n",
    "Notre objectif est d'évaluer les performances des modèles avec et sans l'utilisation de ACP. De plus, nous utiliserons SMOTE-NC pour gérer les classes déséquilibre, par la suite, nous explorerons l'utilisation d'hyperparamètres dans le modèle pour équilibrer les classes sans utiliser SMOTE-NC."
   ]
  },
  {
   "cell_type": "markdown",
   "id": "00aadc30",
   "metadata": {},
   "source": [
    "### Create a function to get metrics"
   ]
  },
  {
   "cell_type": "code",
   "execution_count": 46,
   "id": "e31411ea",
   "metadata": {},
   "outputs": [],
   "source": [
    "from sklearn.metrics import f1_score\n",
    "def get_metrics(y_true, y_pred):\n",
    "    # Calcul des scores F1 pour chaque classe\n",
    "    f1_scores_per_class = f1_score(y_true, y_pred, average=None)\n",
    "    \n",
    "    dict_metrics = {\n",
    "        'Accuracy': accuracy_score(y_true, y_pred),\n",
    "        'Balanced Accuracy': balanced_accuracy_score(y_true, y_pred),\n",
    "        'Macro Recall': recall_score(y_true, y_pred, average='macro'),\n",
    "        'Macro Precision': precision_score(y_true, y_pred, average='macro'),\n",
    "        'Macro F1': f1_score(y_true, y_pred, average='macro'),\n",
    "        'F1 Scores per Class': f1_scores_per_class\n",
    "    }\n",
    "    return dict_metrics"
   ]
  },
  {
   "cell_type": "markdown",
   "id": "d8a1e195",
   "metadata": {},
   "source": [
    "### Repartition des données en données d'entrainement et données test"
   ]
  },
  {
   "cell_type": "code",
   "execution_count": 47,
   "id": "2b2c8c65",
   "metadata": {},
   "outputs": [],
   "source": [
    "df_model = df.copy()\n",
    "X = df_model[NUMERIC_FEATURES + CATEGORIC_FEATURES]\n",
    "y = df_model['Failure_type']\n",
    "X_train, X_test, y_train, y_test = train_test_split(X, y, random_state=42, test_size=0.2, stratify=y)"
   ]
  },
  {
   "cell_type": "markdown",
   "id": "d54bdff4",
   "metadata": {},
   "source": [
    "### Création du modèle avec ACP \n",
    "À noter que l'ACP est une technique de réduction de dimensionnalité linéaire. Si nos données contiennent des relations non linéaires importantes pour les prédictions, l'ACP pourrait ne pas être en mesure de les capturer efficacement, ce qui entraînerait une diminution des performances du modèle.\n"
   ]
  },
  {
   "cell_type": "markdown",
   "id": "cc4cae72",
   "metadata": {},
   "source": [
    "###### Compatibilité modèle-données : \n",
    "Certains modèles sont plus sensibles à la représentation des fonctionnalités en entrée et peuvent mieux fonctionner avec les fonctionnalités d'origine plutôt qu'avec les composants principaux. Cela peut être dû à diverses raisons, notamment le type d’algorithme, la nature des données et la tâche spécifique à accomplir.\n",
    "\n",
    "###### Importance des interactions entre les fonctionnalités : \n",
    "Si les interactions entre les fonctionnalités d'origine sont importantes pour notre modèle, l'ACP, qui crée des combinaisons linéaires de fonctionnalités, peut perturber ces interactions.\n",
    "\n",
    "Est-ce que c'est une problématique? Pas nécessairement. Il est important de se rappeler que l'ACP n’est qu’un des nombreux outils de réduction de dimensionnalité et d’extraction de fonctionnalités. Si l'ACP n’améliore pas ou même détériore les performances de notre modèle, il est tout à fait raisonnable de choisir de ne pas l’utiliser.\n"
   ]
  },
  {
   "cell_type": "code",
   "execution_count": 50,
   "id": "67ae780b",
   "metadata": {},
   "outputs": [
    {
     "data": {
      "text/plain": [
       "{'Accuracy': 0.9709273182957393,\n",
       " 'Balanced Accuracy': 0.2946172248803828,\n",
       " 'Macro Recall': 0.2946172248803828,\n",
       " 'Macro Precision': 0.7941620533467539,\n",
       " 'Macro F1': 0.3435200071057424,\n",
       " 'F1 Scores per Class': array([0.08695652, 0.98518897, 0.54545455, 0.1       , 0.        ])}"
      ]
     },
     "execution_count": 50,
     "metadata": {},
     "output_type": "execute_result"
    }
   ],
   "source": [
    "# Création d'un pipeline avec analyse ACP et classe équilibrée\n",
    "pip_model_acp = Pipeline(steps=[\n",
    "    ('preprocessor', preprocessor),\n",
    "    ('pca', PCA(n_components=4)),# 4 premieres composantes de acp\n",
    "    ('model', RandomForestClassifier(random_state=2024))\n",
    "])\n",
    "\n",
    "# Ajustons le pipeline avec ACP\n",
    "weights = class_weight.compute_sample_weight(class_weight='balanced', y=y_train)\n",
    "pip_model_acp.fit(X_train, y_train, model__sample_weight=weights)\n",
    "\n",
    "# Génération des prédictions en utilisant le pipeline ajusté.\n",
    "y_pred = pip_model_acp.predict(X_test)\n",
    "\n",
    "# Évaluons les métriques\n",
    "metrics = get_metrics(y_test, y_pred)\n",
    "metrics"
   ]
  },
  {
   "cell_type": "markdown",
   "id": "68a06c1f",
   "metadata": {},
   "source": [
    "### Création du modèle sans ACP"
   ]
  },
  {
   "cell_type": "code",
   "execution_count": 49,
   "id": "906f0d8f",
   "metadata": {},
   "outputs": [
    {
     "data": {
      "text/plain": [
       "{'Accuracy': 0.9548872180451128,\n",
       " 'Balanced Accuracy': 0.8089450719853029,\n",
       " 'Macro Recall': 0.8089450719853029,\n",
       " 'Macro Precision': 0.5918666031005705,\n",
       " 'Macro F1': 0.6555845607554603,\n",
       " 'F1 Scores per Class': array([0.78571429, 0.97652334, 0.57894737, 0.7804878 , 0.15625   ])}"
      ]
     },
     "execution_count": 49,
     "metadata": {},
     "output_type": "execute_result"
    }
   ],
   "source": [
    "# Création de pipeline sans analyse ACP et classe équilibrée avec paramètre de  modèle\n",
    "pip_model_no_acp = Pipeline(steps=[\n",
    "    ('preprocessor', preprocessor),\n",
    "    ('model', GradientBoostingClassifier(random_state=2024))\n",
    "])\n",
    "\n",
    "# Fit pipeline with sample weights\n",
    "weights = class_weight.compute_sample_weight(class_weight='balanced', y=y_train)\n",
    "pip_model_no_acp.fit(X_train, y_train, model__sample_weight=weights)\n",
    "\n",
    "# Step 1: Generate Predictions\n",
    "y_pred = pip_model_no_acp.predict(X_test)\n",
    "\n",
    "# Step 2: Evaluate Metrics\n",
    "metrics = get_metrics(y_test, y_pred)\n",
    "\n",
    "# Step 3: View Results\n",
    "metrics"
   ]
  },
  {
   "cell_type": "markdown",
   "id": "e43380f9",
   "metadata": {},
   "source": [
    "Comme nous pouvons analyser ici, nous avons obtenu une augmentation significative des performances de notre modèle. Cela confirme l'hypothèse selon laquelle l'utilisation de ACP avec seulement 4 composants a entraîné une perte d'informations, donc utiliser ACP ici n'est pas intéressant. Il est important de se rappeler que notre score cible est le score Macro F1, donc avant nous avions 0,344 et maintenant nous en avons 0,656.\n"
   ]
  },
  {
   "cell_type": "markdown",
   "id": "4bdf0fd9",
   "metadata": {},
   "source": [
    "### Création du modèle sans ACP et avec SMOTE-NC\n",
    "La stratégie ici est d'analyser si le modèle fonctionne mieux quand on gère les classes déséquilibrées avec SMOTE-NC.\n"
   ]
  },
  {
   "cell_type": "code",
   "execution_count": 51,
   "id": "ea13cec2",
   "metadata": {},
   "outputs": [
    {
     "data": {
      "text/plain": [
       "{'Accuracy': 0.9478696741854636,\n",
       " 'Balanced Accuracy': 0.8551051358307641,\n",
       " 'Macro Recall': 0.8551051358307641,\n",
       " 'Macro Precision': 0.580598694230544,\n",
       " 'Macro F1': 0.6617230015122039,\n",
       " 'F1 Scores per Class': array([0.8       , 0.97241379, 0.68292683, 0.72340426, 0.12987013])}"
      ]
     },
     "execution_count": 51,
     "metadata": {},
     "output_type": "execute_result"
    }
   ],
   "source": [
    "# Obtention des indices de variables qualitatives pour SMOTE-NC\n",
    "\n",
    "categorical_features_indices = [i for i, feature in enumerate(NUMERIC_FEATURES + CATEGORIC_FEATURES) \n",
    "                                if feature in CATEGORIC_FEATURES]\n",
    "\n",
    "# Création du nouveau pipeline avec SMOTENC en utilisant ImbPipeline\n",
    "pip_model_smotenc = ImbPipeline(steps=[\n",
    "    ('preprocessor', preprocessor),\n",
    "    ('smotenc', SMOTENC(categorical_features=categorical_features_indices, random_state=42)),\n",
    "    ('model', GradientBoostingClassifier(random_state=2023))\n",
    "])\n",
    "\n",
    "pip_model_smotenc.fit(X_train, y_train)\n",
    "\n",
    "# Predictions\n",
    "y_pred = pip_model_smotenc.predict(X_test)\n",
    "\n",
    "# Evaluation de Metrics\n",
    "metrics = get_metrics(y_test, y_pred)\n",
    "metrics"
   ]
  },
  {
   "cell_type": "markdown",
   "id": "832aed24",
   "metadata": {},
   "source": [
    "Comme nous pouvons le voir, utiliser SMOTE-NC pour gérer une classe déséquilibrée n'est pas nécessairement une meilleure approche car il n'a apporté aucune amélioration significative du score Macro F1 (avant 0,662 et maintenant 0,656). De plus, ici nous avons perdu une précision et gagné un rappel mais dans notre application il est plus intéressant d'obtenir un meilleur score f1 équilibrant le rappel et la précision avec plus de poids à la précision qu'entre les pannes détectées classer correctement le type de panne. "
   ]
  },
  {
   "cell_type": "markdown",
   "id": "2e51f9bc",
   "metadata": {},
   "source": [
    "### Optimisons les hyperparamètres par GridSearchCV pour trouver un meilleur modèle\n",
    "GridSearchCV est un outil polyvalent de scikit-learn utilisé pour sélectionner le meilleur modèle d'apprentissage automatique et optimiser ses hyperparamètres. Il effectue une recherche exhaustive sur un ensemble prédéfini de modèles et de paramètres, en utilisant la validation croisée pour évaluer et comparer les performances de chaque combinaison, permettant ainsi d'identifier la configuration la plus efficace pour un ensemble de données donné."
   ]
  },
  {
   "cell_type": "code",
   "execution_count": 67,
   "id": "67cd09c3",
   "metadata": {},
   "outputs": [
    {
     "name": "stdout",
     "output_type": "stream",
     "text": [
      "Fitting 3 folds for each of 4 candidates, totalling 12 fits\n",
      "Best model:\n",
      "{'model': GradientBoostingClassifier(random_state=1000)}\n"
     ]
    }
   ],
   "source": [
    "# Création de pipeline sans analyse PCA et classe équilibrée avec paramètre par modèle\n",
    "pip_model_no_pca = Pipeline(steps=[\n",
    "    ('preprocessor', preprocessor),\n",
    "    ('model', GradientBoostingClassifier(random_state=1000))\n",
    "])\n",
    "\n",
    "# Ajustons le pipeline avec des poids d'échantillon\n",
    "weights = class_weight.compute_sample_weight(class_weight='balanced', y=y_train)\n",
    "pip_model_no_pca.fit(X_train, y_train, model__sample_weight=weights)\n",
    "\n",
    "# Mise à jour des paramètres pour GridSearchCV\n",
    "params = {\n",
    "    'model': [\n",
    "        LogisticRegressionCV(max_iter=5000, random_state=1000),\n",
    "        RandomForestClassifier(random_state=1000),\n",
    "        GradientBoostingClassifier(random_state=1000),\n",
    "        DummyClassifier()\n",
    "    ],\n",
    "}\n",
    "\n",
    "# Exécution de GridSearchCV\n",
    "grid = GridSearchCV(pip_model_no_pca, params, cv=3, scoring='f1_macro', n_jobs=-1, verbose=1)\n",
    "grid.fit(X_train, y_train)\n",
    "\n",
    "# Collecte et impression des résultats\n",
    "results = pd.DataFrame(grid.cv_results_)\n",
    "best_model_index = results['mean_test_score'].idxmax()\n",
    "best_model_params = results.loc[best_model_index, 'params']\n",
    "\n",
    "print(\"Best model:\")\n",
    "print(best_model_params)"
   ]
  },
  {
   "cell_type": "markdown",
   "id": "4c30eeaa",
   "metadata": {},
   "source": [
    "Comme nous pouvons le voir, GradientBoostingClassifier est le meilleur modèle pour notre application en comparaison avec RandomForestClassifier, GradientBoostingClassifier et DummyClassifier. Même si nous savons que DummyClassifier est le pire modèle, c'est une bonne pratique de l'inclure pour avoir une référence avec le modèle qui n'apprend pas avec nos données, ne classe qu'avec la classe la plus pertinente. Alors maintenant, nous allons ajuster les hyperparamètres de notre modèle.\n"
   ]
  },
  {
   "cell_type": "markdown",
   "id": "c43b07bc",
   "metadata": {},
   "source": [
    "### Ajustement du modèle\n",
    "Pour gagner en tamps dans exécuter des tâches, nous allons régler uniquement 2 hyperparamètres qui sont parmi les plus pratiques.\n"
   ]
  },
  {
   "cell_type": "code",
   "execution_count": 69,
   "id": "185d959e",
   "metadata": {},
   "outputs": [
    {
     "name": "stdout",
     "output_type": "stream",
     "text": [
      "Fitting 3 folds for each of 30 candidates, totalling 90 fits\n",
      "Best fine-tuned model parameters:\n",
      "{'model__max_depth': 5, 'model__n_estimators': 100}\n"
     ]
    },
    {
     "data": {
      "text/plain": [
       "{'Accuracy': 0.981453634085213,\n",
       " 'Balanced Accuracy': 0.619389803329191,\n",
       " 'Macro Recall': 0.619389803329191,\n",
       " 'Macro Precision': 0.652765143151542,\n",
       " 'Macro F1': 0.6332290489502171,\n",
       " 'F1 Scores per Class': array([0.86956522, 0.99069767, 0.6       , 0.70588235, 0.        ])}"
      ]
     },
     "execution_count": 69,
     "metadata": {},
     "output_type": "execute_result"
    }
   ],
   "source": [
    "# Nouveaux paramètres pour affiner le RandomForestClassifier\n",
    "fine_tune_params = {\n",
    "    \n",
    "    'model__n_estimators': [50, 100, 200, 300, 400, 500],\n",
    "    'model__max_depth': [None, 5, 10, 15, 20]\n",
    "}\n",
    "\n",
    "# Exécution d'un nouveau GridSearchCV pour un réglage fin\n",
    "fine_tune_grid = GridSearchCV(pip_model_no_pca, fine_tune_params, cv=3, scoring='f1_macro', n_jobs=-1, verbose=1)\n",
    "fine_tune_grid.fit(X_train, y_train)\n",
    "\n",
    "# Collecte et impression des résultats affinés\n",
    "fine_tuned_results = pd.DataFrame(fine_tune_grid.cv_results_)\n",
    "fine_tuned_best_index = fine_tuned_results['mean_test_score'].idxmax()\n",
    "fine_tuned_best_params = fine_tuned_results.loc[fine_tuned_best_index, 'params']\n",
    "\n",
    "# Impression des meilleurs paramètres du modèle\n",
    "print(\"Best fine-tuned model parameters:\")\n",
    "print(fine_tuned_best_params)\n",
    "\n",
    "# Trouvons les meilleurs paramètres d'estimation\n",
    "tuned_model = fine_tune_grid.best_estimator_\n",
    "y_pred = tuned_model.predict(X_test)\n",
    "\n",
    "# Affichons les nouvelles performances\n",
    "get_metrics(y_test, y_pred)"
   ]
  },
  {
   "cell_type": "code",
   "execution_count": null,
   "id": "d44da710",
   "metadata": {},
   "outputs": [],
   "source": [
    "tuned_model"
   ]
  },
  {
   "cell_type": "markdown",
   "id": "7c2f4867",
   "metadata": {},
   "source": [
    "le GridSearchCV a détecté après ajustement des paramètres les valuers de max_degree et n_estimators respectivement  5 et 100, le modèle est moins performant. Comme nous pouvons l'observer, Macro F1 a redit un peu de performance mais l'équilibre entre rappel et précision est le plus grand. Comme mentionné précédemment, notre score cible est Macro F1 avec une attention particulière à la précision, donc dans ce scénario, nous preferons garder ce modèle pour notre application avec l'approche appliquée. Nous avons 0,633 de Macro F1 et la pire classe classée est \"Tool Wear Failure\" pour laquelle nous n'avons pas assez de données disponibles, donc c'est tout à fait logique."
   ]
  },
  {
   "cell_type": "markdown",
   "id": "19dc4ed2",
   "metadata": {},
   "source": [
    "### Matrice de confusion"
   ]
  },
  {
   "cell_type": "code",
   "execution_count": 233,
   "id": "f1e5c3a4",
   "metadata": {},
   "outputs": [
    {
     "data": {
      "image/png": "[encoded data removed]",
      "text/plain": [
       "<Figure size 432x432 with 2 Axes>"
      ]
     },
     "metadata": {
      "needs_background": "light"
     },
     "output_type": "display_data"
    }
   ],
   "source": [
    "# Matrice de confusion\n",
    "cm = confusion_matrix(y_test, y_pred)\n",
    "\n",
    "# Traçons la matrice de confusion\n",
    "plt.figure(figsize=(6, 6))  \n",
    "sns.heatmap(cm, annot=True, fmt='d', cmap='Blues', \n",
    "            xticklabels=np.unique(y_test), \n",
    "            yticklabels=np.unique(y_pred))\n",
    "plt.ylabel('Actual label')\n",
    "plt.xlabel('Predicted label')\n",
    "plt.title('Confusion Matrix with Fine-Tuned RandomForestClassifier')\n",
    "plt.show()"
   ]
  },
  {
   "cell_type": "code",
   "execution_count": null,
   "id": "0e650f3a",
   "metadata": {},
   "outputs": [],
   "source": []
  },
  {
   "cell_type": "markdown",
   "id": "f1d58208",
   "metadata": {},
   "source": [
    "### Sauvegarde du modèle final"
   ]
  },
  {
   "cell_type": "code",
   "execution_count": 54,
   "id": "92a8f308",
   "metadata": {},
   "outputs": [],
   "source": [
    "with open('/home/sacko/Documents/Maintenance/ModelFinal.pkl', 'wb') as model_file:\n",
    "    pickle.dump(tuned_model, model_file)"
   ]
  },
  {
   "cell_type": "code",
   "execution_count": null,
   "id": "28b985f8",
   "metadata": {},
   "outputs": [],
   "source": []
  }
 ],
 "metadata": {
  "kernelspec": {
   "display_name": "Python 3 (ipykernel)",
   "language": "python",
   "name": "python3"
  },
  "language_info": {
   "codemirror_mode": {
    "name": "ipython",
    "version": 3
   },
   "file_extension": ".py",
   "mimetype": "text/x-python",
   "name": "python",
   "nbconvert_exporter": "python",
   "pygments_lexer": "ipython3",
   "version": "3.9.12"
  }
 },
 "nbformat": 4,
 "nbformat_minor": 5
}
